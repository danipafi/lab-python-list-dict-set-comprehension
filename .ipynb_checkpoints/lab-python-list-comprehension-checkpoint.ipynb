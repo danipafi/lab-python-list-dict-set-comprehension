{
 "cells": [
  {
   "cell_type": "markdown",
   "id": "25d7736c-ba17-4aff-b6bb-66eba20fbf4e",
   "metadata": {},
   "source": [
    "# Lab | List, Dict and Set Comprehension"
   ]
  },
  {
   "cell_type": "markdown",
   "id": "7dd3cbde-675a-4b81-92c3-f728846dbe06",
   "metadata": {},
   "source": [
    "## Exercise: Managing Customer Orders Optimized with Comprehension"
   ]
  },
  {
   "cell_type": "markdown",
   "id": "5d500160-2fb7-4777-b5e4-09d45ebaf328",
   "metadata": {},
   "source": [
    "In the previous exercise, you developed a program to manage customer orders and inventory. Now, let's take it a step further and incorporate comprehension into your code.\n",
    "\n",
    "Follow the steps below to complete the exercise:\n",
    "\n",
    "1. Review your code from the previous exercise and identify areas where you can apply comprehension to simplify and streamline your code. \n",
    "\n",
    "    - *Hint: Apply it to initialize inventory, updating the inventory and printing the updated inventory.*\n",
    "    \n",
    "    - For example, in initializing the inventory, we could have:\n",
    "    \n",
    "        ```python\n",
    "        def initialize_inventory(products):\n",
    "            inventory = {product: int(input(f\"Enter the quantity of {product}s available: \")) for product in products}\n",
    "            return inventory\n",
    "\n",
    "        ```\n",
    "<br>\n",
    "    \n",
    "    \n",
    "2. Modify the function get_customer_orders so it prompts the user to enter the number of customer orders and gathers the product names using a loop and user input. Use comprehension.\n",
    "\n",
    "3. Add a new function to calculate the total price of the customer order. For each product in customer_orders, prompt the user to enter the price of that product. Use comprehension to calculate the total price. Note: assume that the user can only have 1 unit of each product.\n",
    "\n",
    "4. Modify the update_inventory function to remove the product from the inventory if its quantity becomes zero after fulfilling the customer orders. Use comprehension to filter out the products with a quantity of zero from the inventory.\n",
    "\n",
    "5. Print the total price of the customer order.\n",
    "\n",
    "Your code should produce output similar to the following:\n",
    "\n",
    "```python\n",
    "Enter the quantity of t-shirts available:  5\n",
    "Enter the quantity of mugs available:  4\n",
    "Enter the quantity of hats available:  3\n",
    "Enter the quantity of books available:  2\n",
    "Enter the quantity of keychains available:  1\n",
    "Enter the number of customer orders:  2\n",
    "Enter the name of a product that a customer wants to order:  hat\n",
    "Enter the name of a product that a customer wants to order:  keychain\n",
    "\n",
    "Order Statistics:\n",
    "Total Products Ordered: 2\n",
    "Percentage of Unique Products Ordered: 40.0\n",
    "\n",
    "Updated Inventory:\n",
    "t-shirt: 5\n",
    "mug: 4\n",
    "hat: 2\n",
    "book: 2\n",
    "Enter the price of keychain:  5\n",
    "Enter the price of hat:  10\n",
    "Total Price: 15.0\n",
    "\n",
    "```\n"
   ]
  },
  {
   "cell_type": "markdown",
   "id": "68655257",
   "metadata": {},
   "source": [
    "1. Review your code from the previous exercise and identify areas where you can apply comprehension to simplify and streamline your code. \n",
    "\n",
    "    - *Hint: Apply it to initialize inventory, updating the inventory and printing the updated inventory.*\n",
    "    \n",
    "    - For example, in initializing the inventory, we could have:\n",
    "    \n",
    "        ```python\n",
    "        def initialize_inventory(products):\n",
    "            inventory = {product: int(input(f\"Enter the quantity of {product}s available: \")) for product in products}\n",
    "            return inventory\n",
    "\n",
    "        ```\n",
    "<br>"
   ]
  },
  {
   "cell_type": "code",
   "execution_count": 1,
   "id": "24a245f1",
   "metadata": {},
   "outputs": [],
   "source": [
    "def initialize_inventory(*products):\n",
    "    inventory = {product: int(input(f\"Enter the quantity of {product}: \")) for product in products}\n",
    "    return inventory"
   ]
  },
  {
   "cell_type": "code",
   "execution_count": 2,
   "id": "2f74daec",
   "metadata": {},
   "outputs": [
    {
     "data": {
      "text/plain": [
       "'\\npara referencia:\\n\\ndef initialize_inventory(*products):\\n    inventory = {}\\n    for product in products:\\n        q = input(f\"Enter the quantity of {product}: \")\\n        inventory[product] = int(q)\\n    return inventory\\n'"
      ]
     },
     "execution_count": 2,
     "metadata": {},
     "output_type": "execute_result"
    }
   ],
   "source": [
    "'''\n",
    "para referencia:\n",
    "\n",
    "def initialize_inventory(*products):\n",
    "    inventory = {}\n",
    "    for product in products:\n",
    "        q = input(f\"Enter the quantity of {product}: \")\n",
    "        inventory[product] = int(q)\n",
    "    return inventory\n",
    "'''"
   ]
  },
  {
   "cell_type": "code",
   "execution_count": 3,
   "id": "0db4e443",
   "metadata": {},
   "outputs": [
    {
     "name": "stdout",
     "output_type": "stream",
     "text": [
      "Enter the quantity of mug: 5\n",
      "Enter the quantity of hat: 4\n",
      "Enter the quantity of book: 1\n"
     ]
    }
   ],
   "source": [
    "inventory = initialize_inventory(\"mug\", \"hat\", \"book\")"
   ]
  },
  {
   "cell_type": "code",
   "execution_count": 4,
   "id": "04818865",
   "metadata": {},
   "outputs": [
    {
     "data": {
      "text/plain": [
       "{'mug': 5, 'hat': 4, 'book': 1}"
      ]
     },
     "execution_count": 4,
     "metadata": {},
     "output_type": "execute_result"
    }
   ],
   "source": [
    "inventory"
   ]
  },
  {
   "cell_type": "code",
   "execution_count": 5,
   "id": "d62d0ef4",
   "metadata": {},
   "outputs": [],
   "source": [
    "def get_customer_orders():\n",
    "    customer_orders = set()\n",
    "\n",
    "    p = input(\"Enter the product name: \")\n",
    "    customer_orders.add(p)    \n",
    "    \n",
    "    answer = input(\"Do you want to add another product to your order? Answer yes ou no: \")\n",
    "    \n",
    "    while answer == \"yes\":\n",
    "        p = input(\"Enter the product name: \")\n",
    "        customer_orders.add(p)  \n",
    "        answer = input(\"Do you want to add another product to your order? Answer yes ou no: \")\n",
    "                   \n",
    "    else:\n",
    "        print(\"Thanks for ordering with us!\")\n",
    "    \n",
    "    return customer_orders"
   ]
  },
  {
   "cell_type": "code",
   "execution_count": 6,
   "id": "53c19ef3",
   "metadata": {},
   "outputs": [
    {
     "name": "stdout",
     "output_type": "stream",
     "text": [
      "Enter the product name: book\n",
      "Do you want to add another product to your order? Answer yes ou no: yes\n",
      "Enter the product name: mug\n",
      "Do you want to add another product to your order? Answer yes ou no: no\n",
      "Thanks for ordering with us!\n"
     ]
    },
    {
     "data": {
      "text/plain": [
       "{'book', 'mug'}"
      ]
     },
     "execution_count": 6,
     "metadata": {},
     "output_type": "execute_result"
    }
   ],
   "source": [
    "customer_orders = get_customer_orders()\n",
    "customer_orders"
   ]
  },
  {
   "cell_type": "code",
   "execution_count": 7,
   "id": "ec6d2600",
   "metadata": {},
   "outputs": [
    {
     "data": {
      "text/plain": [
       "{'mug': 5, 'hat': 4, 'book': 1}"
      ]
     },
     "execution_count": 7,
     "metadata": {},
     "output_type": "execute_result"
    }
   ],
   "source": [
    "inventory"
   ]
  },
  {
   "cell_type": "code",
   "execution_count": 8,
   "id": "f799aee6",
   "metadata": {},
   "outputs": [],
   "source": [
    "def update_inventory(customer_orders, inventory):\n",
    "    updated_inventory = {i: inventory[i]-1 if i in customer_orders else inventory[i] for i in inventory}    \n",
    "    return updated_inventory"
   ]
  },
  {
   "cell_type": "code",
   "execution_count": 9,
   "id": "ff89cb86",
   "metadata": {},
   "outputs": [
    {
     "data": {
      "text/plain": [
       "{'mug': 4, 'hat': 4, 'book': 0}"
      ]
     },
     "execution_count": 9,
     "metadata": {},
     "output_type": "execute_result"
    }
   ],
   "source": [
    "updated_inventory = update_inventory(customer_orders, inventory)\n",
    "updated_inventory"
   ]
  },
  {
   "cell_type": "code",
   "execution_count": 10,
   "id": "f037f6c8",
   "metadata": {},
   "outputs": [
    {
     "data": {
      "text/plain": [
       "'def update_inventory(customer_orders, inventory):\\n    updated_inventory = inventory.copy()\\n    for i in customer_orders:\\n        updated_inventory[i] -= 1\\n    return updated_inventory'"
      ]
     },
     "execution_count": 10,
     "metadata": {},
     "output_type": "execute_result"
    }
   ],
   "source": [
    "'''def update_inventory(customer_orders, inventory):\n",
    "    updated_inventory = inventory.copy()\n",
    "    for i in customer_orders:\n",
    "        updated_inventory[i] -= 1\n",
    "    return updated_inventory'''"
   ]
  },
  {
   "cell_type": "code",
   "execution_count": null,
   "id": "515246d0",
   "metadata": {},
   "outputs": [],
   "source": []
  },
  {
   "cell_type": "markdown",
   "id": "bef7f4a4",
   "metadata": {},
   "source": [
    "2. Modify the function get_customer_orders so it prompts the user to enter the number of customer orders and gathers the product names using a loop and user input. Use comprehension."
   ]
  },
  {
   "cell_type": "code",
   "execution_count": 11,
   "id": "27705c59",
   "metadata": {},
   "outputs": [],
   "source": [
    "def get_customer_orders():    \n",
    "    n = int(input(\"Enter the number of products the customer wants to order: \"))\n",
    "    \n",
    "    customer_orders = {input(\"Enter the product name: \") for i in range(n)}\n",
    "        \n",
    "    print(\"Thanks for ordering with us!\")\n",
    "    \n",
    "    return customer_orders"
   ]
  },
  {
   "cell_type": "code",
   "execution_count": 12,
   "id": "ea8456ea",
   "metadata": {},
   "outputs": [
    {
     "data": {
      "text/plain": [
       "'def get_customer_orders():\\n    customer_orders = set()\\n    \\n    n = int(input(\"Enter the number of products the customer wants to order: \"))\\n    \\n    for i in range(n):\\n        p = input(\"Enter the product name: \")\\n        customer_orders.add(p)    \\n        \\n    print(\"Thanks for ordering with us!\")\\n    \\n    return customer_orders'"
      ]
     },
     "execution_count": 12,
     "metadata": {},
     "output_type": "execute_result"
    }
   ],
   "source": [
    "'''def get_customer_orders():\n",
    "    customer_orders = set()\n",
    "    \n",
    "    n = int(input(\"Enter the number of products the customer wants to order: \"))\n",
    "    \n",
    "    for i in range(n):\n",
    "        p = input(\"Enter the product name: \")\n",
    "        customer_orders.add(p)    \n",
    "        \n",
    "    print(\"Thanks for ordering with us!\")\n",
    "    \n",
    "    return customer_orders'''"
   ]
  },
  {
   "cell_type": "code",
   "execution_count": 13,
   "id": "ba9bcd01",
   "metadata": {},
   "outputs": [
    {
     "name": "stdout",
     "output_type": "stream",
     "text": [
      "Enter the number of products the customer wants to order: 2\n",
      "Enter the product name: book\n",
      "Enter the product name: mug\n",
      "Thanks for ordering with us!\n"
     ]
    }
   ],
   "source": [
    "customer_orders = get_customer_orders()"
   ]
  },
  {
   "cell_type": "code",
   "execution_count": 14,
   "id": "d7d282ec",
   "metadata": {},
   "outputs": [
    {
     "data": {
      "text/plain": [
       "{'book', 'mug'}"
      ]
     },
     "execution_count": 14,
     "metadata": {},
     "output_type": "execute_result"
    }
   ],
   "source": [
    "customer_orders"
   ]
  },
  {
   "cell_type": "code",
   "execution_count": null,
   "id": "b699bebe",
   "metadata": {},
   "outputs": [],
   "source": []
  },
  {
   "cell_type": "markdown",
   "id": "a5f79a90",
   "metadata": {},
   "source": [
    "3. Add a new function to calculate the total price of the customer order. For each product in customer_orders, prompt the user to enter the price of that product. Use comprehension to calculate the total price. Note: assume that the user can only have 1 unit of each product."
   ]
  },
  {
   "cell_type": "code",
   "execution_count": 15,
   "id": "3d67bb18",
   "metadata": {},
   "outputs": [
    {
     "data": {
      "text/plain": [
       "{'book', 'mug'}"
      ]
     },
     "execution_count": 15,
     "metadata": {},
     "output_type": "execute_result"
    }
   ],
   "source": [
    "customer_orders"
   ]
  },
  {
   "cell_type": "code",
   "execution_count": 16,
   "id": "5e1071e4",
   "metadata": {},
   "outputs": [],
   "source": [
    "def total_price(customer_orders):\n",
    "    total = sum([int(input(f\"Enter the price of {product}: \")) for product in customer_orders])\n",
    "    return total"
   ]
  },
  {
   "cell_type": "code",
   "execution_count": 17,
   "id": "d80f35e0",
   "metadata": {},
   "outputs": [
    {
     "data": {
      "text/plain": [
       "'def total_price(customer_orders):\\n    price = []\\n    for product in customer_orders:\\n        q = input(f\"Enter the price of {product}: \")\\n        price.append(int(q))\\n        total = sum(price)\\n\\n    return total'"
      ]
     },
     "execution_count": 17,
     "metadata": {},
     "output_type": "execute_result"
    }
   ],
   "source": [
    "'''def total_price(customer_orders):\n",
    "    price = []\n",
    "    for product in customer_orders:\n",
    "        q = input(f\"Enter the price of {product}: \")\n",
    "        price.append(int(q))\n",
    "        total = sum(price)\n",
    "\n",
    "    return total'''"
   ]
  },
  {
   "cell_type": "code",
   "execution_count": 18,
   "id": "4726eba4",
   "metadata": {},
   "outputs": [
    {
     "name": "stdout",
     "output_type": "stream",
     "text": [
      "Enter the price of book: 5\n",
      "Enter the price of mug: 2\n"
     ]
    },
    {
     "data": {
      "text/plain": [
       "7"
      ]
     },
     "execution_count": 18,
     "metadata": {},
     "output_type": "execute_result"
    }
   ],
   "source": [
    "total_price(customer_orders)"
   ]
  },
  {
   "cell_type": "code",
   "execution_count": null,
   "id": "0122fdbc",
   "metadata": {},
   "outputs": [],
   "source": []
  },
  {
   "cell_type": "markdown",
   "id": "dd9e530c",
   "metadata": {},
   "source": [
    "4. Modify the update_inventory function to remove the product from the inventory if its quantity becomes zero after fulfilling the customer orders. Use comprehension to filter out the products with a quantity of zero from the inventory."
   ]
  },
  {
   "cell_type": "code",
   "execution_count": 19,
   "id": "f5b8a8ef",
   "metadata": {},
   "outputs": [],
   "source": [
    "def update_inventory(customer_orders, inventory):\n",
    "    updated_inventory = inventory.copy()\n",
    "    for order in customer_orders:\n",
    "        if updated_inventory[order] > 0:\n",
    "            updated_inventory[order] -= 1\n",
    "\n",
    "    updated_inventory = {key: value for key, value in updated_inventory.items() if value> 0}\n",
    "        \n",
    "    return updated_inventory"
   ]
  },
  {
   "cell_type": "code",
   "execution_count": 20,
   "id": "d4cb40a3",
   "metadata": {},
   "outputs": [
    {
     "data": {
      "text/plain": [
       "'for key, value in list(updated_inventory.items()):\\n        if value == 0:\\n            del updated_inventory[key]\\n            \\n'"
      ]
     },
     "execution_count": 20,
     "metadata": {},
     "output_type": "execute_result"
    }
   ],
   "source": [
    "'''for key, value in list(updated_inventory.items()):\n",
    "        if value == 0:\n",
    "            del updated_inventory[key]\n",
    "            \n",
    "'''"
   ]
  },
  {
   "cell_type": "code",
   "execution_count": 21,
   "id": "1184f623",
   "metadata": {},
   "outputs": [],
   "source": [
    "updated_inventory = update_inventory(customer_orders, inventory)"
   ]
  },
  {
   "cell_type": "code",
   "execution_count": 22,
   "id": "298841c2",
   "metadata": {},
   "outputs": [
    {
     "data": {
      "text/plain": [
       "{'mug': 4, 'hat': 4}"
      ]
     },
     "execution_count": 22,
     "metadata": {},
     "output_type": "execute_result"
    }
   ],
   "source": [
    "updated_inventory"
   ]
  },
  {
   "cell_type": "code",
   "execution_count": null,
   "id": "0ba23c0a",
   "metadata": {},
   "outputs": [],
   "source": []
  },
  {
   "cell_type": "markdown",
   "id": "a665b26e",
   "metadata": {},
   "source": [
    "5. Print the total price of the customer order."
   ]
  },
  {
   "cell_type": "code",
   "execution_count": 23,
   "id": "0c9c32ba",
   "metadata": {},
   "outputs": [],
   "source": [
    "def print_total_price(total_price, customer_orders):\n",
    "    total = total_price(customer_orders)\n",
    "    print(f\"Total Price: {total}\")"
   ]
  },
  {
   "cell_type": "code",
   "execution_count": 24,
   "id": "09d31755",
   "metadata": {},
   "outputs": [
    {
     "name": "stdout",
     "output_type": "stream",
     "text": [
      "Enter the price of book: 5\n",
      "Enter the price of mug: 2\n",
      "Total Price: 7\n"
     ]
    }
   ],
   "source": [
    "print_total_price(total_price, customer_orders)"
   ]
  },
  {
   "cell_type": "code",
   "execution_count": null,
   "id": "dda9b903",
   "metadata": {},
   "outputs": [],
   "source": []
  }
 ],
 "metadata": {
  "kernelspec": {
   "display_name": "Python 3 (ipykernel)",
   "language": "python",
   "name": "python3"
  },
  "language_info": {
   "codemirror_mode": {
    "name": "ipython",
    "version": 3
   },
   "file_extension": ".py",
   "mimetype": "text/x-python",
   "name": "python",
   "nbconvert_exporter": "python",
   "pygments_lexer": "ipython3",
   "version": "3.11.5"
  }
 },
 "nbformat": 4,
 "nbformat_minor": 5
}
